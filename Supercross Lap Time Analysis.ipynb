{
 "cells": [
  {
   "cell_type": "markdown",
   "id": "3e9037e4",
   "metadata": {},
   "source": [
    "# Supercross Lap Time Analysis"
   ]
  },
  {
   "cell_type": "code",
   "execution_count": 26,
   "id": "37a950d6",
   "metadata": {},
   "outputs": [
    {
     "data": {
      "text/plain": [
       "1221"
      ]
     },
     "execution_count": 26,
     "metadata": {},
     "output_type": "execute_result"
    }
   ],
   "source": [
    "import pandas as pd\n",
    "\n",
    "# Load the data from the uploaded Excel file\n",
    "data = pd.read_csv('all_laps_SX_20240129.csv')\n",
    "\n",
    "# Display the first few rows of the dataframe to understand its structure\n",
    "data.head()\n",
    "data['RIDER'] = data['RIDER'].str.upper()\n",
    "data['RIDER'].nunique()"
   ]
  },
  {
   "cell_type": "code",
   "execution_count": 18,
   "id": "531f8c6f",
   "metadata": {},
   "outputs": [
    {
     "data": {
      "text/plain": [
       "(283274, 5)"
      ]
     },
     "execution_count": 18,
     "metadata": {},
     "output_type": "execute_result"
    }
   ],
   "source": [
    "data.shape"
   ]
  },
  {
   "cell_type": "markdown",
   "id": "e23758f4",
   "metadata": {},
   "source": [
    "# Laptime Outlier Detection\n",
    "\n",
    "1. For each rider, calculate the Z-score for their lap times.\n",
    "2. Consider lap times with a Z-score greater than 3 as outliers.\n",
    "3. Extract these outlier lap times for further inspection or analysis."
   ]
  },
  {
   "cell_type": "code",
   "execution_count": 20,
   "id": "cb197f72",
   "metadata": {},
   "outputs": [
    {
     "name": "stdout",
     "output_type": "stream",
     "text": [
      "Outliers successfully saved to outliers.xlsx.\n"
     ]
    }
   ],
   "source": [
    "import pandas as pd\n",
    "import numpy as np\n",
    "from scipy import stats\n",
    "\n",
    "data['LAPTIME_SECONDS'] = data['LAPTIME'].astype(float)\n",
    "# Convert 'RIDER' names to uppercase to ensure consistency\n",
    "data['RIDER'] = data['RIDER'].str.upper()\n",
    "\n",
    "# Function to identify outliers and return a DataFrame with all outliers\n",
    "def identify_outliers(data):\n",
    "    # Initialize an empty DataFrame for collecting outliers\n",
    "    outliers_df = pd.DataFrame(columns=data.columns)\n",
    "\n",
    "    # Process each rider in the dataset\n",
    "    for rider in data['RIDER'].unique():\n",
    "        rider_data = data[data['RIDER'] == rider]\n",
    "        if not rider_data.empty:\n",
    "            z_scores = np.abs(stats.zscore(rider_data['LAPTIME_SECONDS']))\n",
    "            rider_outliers = rider_data[z_scores > 3]  # Using Z-score > 3 as outlier criteria\n",
    "            \n",
    "            # Append outliers for this rider to the collective DataFrame\n",
    "            outliers_df = pd.concat([outliers_df, rider_outliers], axis=0)\n",
    "\n",
    "    return outliers_df\n",
    "\n",
    "# Identify outliers for all riders in the dataset\n",
    "outliers = identify_outliers(data)\n",
    "\n",
    "# Specify the path for the output Excel file\n",
    "output_excel_path = 'outliers.xlsx'\n",
    "outliers.to_excel(output_excel_path, index=False)\n",
    "print(f\"Outliers successfully saved to {output_excel_path}.\")"
   ]
  },
  {
   "cell_type": "code",
   "execution_count": 24,
   "id": "e454712d",
   "metadata": {},
   "outputs": [
    {
     "name": "stdout",
     "output_type": "stream",
     "text": [
      "Frequency table of outliers per rider has been saved to outlier_frequency.xlsx.\n"
     ]
    }
   ],
   "source": [
    "from scipy import stats\n",
    "import matplotlib.pyplot as plt\n",
    "import seaborn as sns\n",
    "\n",
    "# Count how many outliers each rider has\n",
    "outlier_counts = outliers['RIDER'].value_counts().reset_index()\n",
    "outlier_counts.columns = ['RIDER', 'Outlier_Count']\n",
    "\n",
    "# Save the frequency table to an Excel file\n",
    "frequency_table_path = 'outlier_frequency.xlsx'\n",
    "outlier_counts.to_excel(frequency_table_path, index=False)\n",
    "\n",
    "print(f\"Frequency table of outliers per rider has been saved to {frequency_table_path}.\")"
   ]
  }
 ],
 "metadata": {
  "kernelspec": {
   "display_name": "Python 3 (ipykernel)",
   "language": "python",
   "name": "python3"
  },
  "language_info": {
   "codemirror_mode": {
    "name": "ipython",
    "version": 3
   },
   "file_extension": ".py",
   "mimetype": "text/x-python",
   "name": "python",
   "nbconvert_exporter": "python",
   "pygments_lexer": "ipython3",
   "version": "3.9.12"
  }
 },
 "nbformat": 4,
 "nbformat_minor": 5
}
